{
 "cells": [
  {
   "cell_type": "code",
   "execution_count": 1,
   "metadata": {},
   "outputs": [],
   "source": [
    "# Sample code for MPS of random vector\n",
    "# 2017 Augst Tsuyoshi Okubo\n",
    "# 2018 Feb. Bug fixed \n",
    "# 2019 Jun. Modified the output\n",
    "# 2020 Jun. Modified the output\n",
    "# 2020 Oct. Modfied by TO\n",
    "# 2020 Dec. Add appendix "
   ]
  },
  {
   "cell_type": "markdown",
   "metadata": {},
   "source": [
    "In this code, we perform a matrix product (a tensor train) decomposition for a random vector. \n",
    "The input parameters are\n",
    "* $N$ : number of \"site\"\n",
    "* $m$ : \"local dimension\". (Total vector dimension is $m^N$.)\n",
    "* chi_max : maximum bond dimension of MPS\n",
    "* seed : the seed for random number generator (When you set an interger, the same random vecotr will be created repetedly.)\n",
    "\n",
    "We preper a random vector with the dimension $ m^N$, and construct the exact matrix product state (tensor train decomposition). Then we truncate the each bond dimension to \"chi_max\" and make an approximated vector.\n",
    "Finally, the code calculate the distance between the exact vector and the approximated vector. \n",
    "\n",
    "In the appedix, we calculate chi_max dependece of the distance."
   ]
  },
  {
   "cell_type": "code",
   "execution_count": 2,
   "metadata": {},
   "outputs": [],
   "source": [
    "import numpy as np\n",
    "import scipy.linalg as linalg\n",
    "import argparse\n",
    "import copy\n",
    "import MPS\n",
    "%matplotlib inline\n",
    "import matplotlib.pyplot as plt"
   ]
  },
  {
   "cell_type": "code",
   "execution_count": 3,
   "metadata": {},
   "outputs": [],
   "source": [
    "## Set parameters\n",
    "N = 16 ## set \"system size\" N \n",
    "m = 2 ## vector size m: total dimension is m^N\n",
    "chi_max = 20 ## maximum bond dimension at truncation\n",
    "seed = None ## The seed for random numnber generator. "
   ]
  },
  {
   "cell_type": "code",
   "execution_count": 4,
   "metadata": {},
   "outputs": [],
   "source": [
    "def calc_innerproduct(Tn1,lam1,Tn2,lam2):\n",
    "\n",
    "\n",
    "    chi1 = Tn1[0].shape[2]\n",
    "    chi2 = Tn2[0].shape[2]\n",
    "\n",
    "    vec = np.tensordot(Tn1[0],Tn2[0].conj(),axes=(0,0)).reshape(chi1,chi2)\n",
    "\n",
    "    for i in range(1,len(Tn1)):\n",
    "        vec = np.tensordot(np.tensordot(np.tensordot(np.tensordot(vec,np.diag(lam1[i]),(0,0)),np.diag(lam2[i]),(0,0)),Tn1[i],(0,1)),Tn2[i].conj(),([0,1],[1,0]))\n",
    "\n",
    "    return vec.reshape(1)[0]"
   ]
  },
  {
   "cell_type": "code",
   "execution_count": 5,
   "metadata": {},
   "outputs": [],
   "source": [
    "def remake_vec(Tn,lam):\n",
    "\n",
    "    chi = Tn[0].shape[2]\n",
    "    m = Tn[0].shape[0]\n",
    "    vec = np.reshape(Tn[0],(m,chi))\n",
    "\n",
    "    for i in range(1,len(Tn)):\n",
    "        vec = np.tensordot(np.tensordot(vec,np.diag(lam[i]),(i,0)),Tn[i],(i,1))\n",
    "    return vec.flatten()"
   ]
  },
  {
   "cell_type": "code",
   "execution_count": 6,
   "metadata": {},
   "outputs": [
    {
     "name": "stdout",
     "output_type": "stream",
     "text": [
      "Parameters: N, m, chi_max = 16, 2, 20\n",
      "Random seed: = None\n"
     ]
    }
   ],
   "source": [
    "## Main calculation\n",
    "\n",
    "if seed != None:\n",
    "    np.random.seed(seed)\n",
    "        \n",
    "    \n",
    "print(\"Parameters: N, m, chi_max = \"+repr(N)+\", \"+repr(m)+ \", \"+repr(chi_max))\n",
    "print(\"Random seed: = \"+repr(seed))\n",
    "\n",
    "## create random vecgtor\n",
    "eig_vec = ((np.random.rand(m**N)-0.5) + 1.0j * (np.random.rand(m**N)-0.5)).reshape(m**N)\n",
    "## normalization\n",
    "norm = np.tensordot(eig_vec,eig_vec.conj(),axes=(0,0))\n",
    "eig_vec /= np.sqrt(np.abs(norm))\n"
   ]
  },
  {
   "cell_type": "code",
   "execution_count": 7,
   "metadata": {},
   "outputs": [],
   "source": [
    "## Make exact MPS (from \"left\")\n",
    "Tn = []\n",
    "lam = [np.ones((1,))]\n",
    "lam_inv = 1.0/lam[0]\n",
    "R_mat = eig_vec[:].reshape(m,m**(N-1))\n",
    "\n",
    "chi_l=1\n",
    "for i in range(N-1):\n",
    "    U,s,VT = linalg.svd(R_mat,full_matrices=False)\n",
    "    chi_r = s.size\n",
    "\n",
    "    Tn.append(np.tensordot(np.diag(lam_inv),U.reshape(chi_l,m,chi_r),(1,0)).transpose(1,0,2))\n",
    "    lam.append(s)\n",
    "    lam_inv = 1.0/s\n",
    "    R_mat = np.dot(np.diag(s),VT).reshape(chi_r*m,m**(N-i-2))\n",
    "    chi_l = chi_r\n",
    "Tn.append(VT.reshape(m,m,1).transpose(1,0,2))\n",
    "lam.append(np.ones((1,)))\n"
   ]
  },
  {
   "cell_type": "code",
   "execution_count": 8,
   "metadata": {},
   "outputs": [
    {
     "name": "stdout",
     "output_type": "stream",
     "text": [
      "Truncation: chi_max = 20\n"
     ]
    }
   ],
   "source": [
    "## Truncation to chi_max\n",
    "\n",
    "Tn_ex = copy.deepcopy(Tn)\n",
    "lam_ex = copy.deepcopy(lam)\n",
    "\n",
    "#Tn_ex = Tn\n",
    "#lam_ex = lam\n",
    "for i in range(N-1):\n",
    "    chi = min(chi_max,lam[i+1].shape[0])\n",
    "    lam[i+1]=lam[i+1][:chi]\n",
    "    Tn[i]=Tn[i][:,:,:chi]\n",
    "    Tn[i+1]=Tn[i+1][:,:chi,:]\n",
    "\n",
    "print(\"Truncation: chi_max = \"+repr(chi_max))\n"
   ]
  },
  {
   "cell_type": "code",
   "execution_count": 9,
   "metadata": {},
   "outputs": [
    {
     "data": {
      "image/png": "[encoded data removed]",
      "text/plain": [
       "<Figure size 432x288 with 1 Axes>"
      ]
     },
     "metadata": {
      "needs_background": "light"
     },
     "output_type": "display_data"
    }
   ],
   "source": [
    "## plot Schmidt coefficient at N/2\n",
    "## Red line indicates the position of chi_max\n",
    "\n",
    "plt.title(\"Schmidt coefficients for \"+\"(N, m) = (\"+repr(N)+\", \"+repr(m)+\") random vector\")\n",
    "plt.plot(np.arange(len(lam_ex[N//2]))+1,lam_ex[N//2]**2,\"o\",label=\"Schmidt coefficients\")\n",
    "plt.axvline([chi_max],0,1,  c=\"red\", linestyle='dashed', label=\"chi_max\") ## position of chi_max\n",
    "plt.xlabel(\"index\")\n",
    "plt.xscale(\"log\")\n",
    "plt.ylabel(\"Schmidt coefficients\")\n",
    "plt.yscale(\"log\")\n",
    "plt.legend()\n",
    "plt.show()\n",
    "\n",
    "\n"
   ]
  },
  {
   "cell_type": "code",
   "execution_count": 10,
   "metadata": {},
   "outputs": [
    {
     "name": "stdout",
     "output_type": "stream",
     "text": [
      "Distance between exact and truncated MPS = 0.98489819317225\n"
     ]
    }
   ],
   "source": [
    "## Distance between Exact MPS and truncated MPS\n",
    "\n",
    "vec_ex = MPS.remake_vec(Tn_ex,lam_ex)\n",
    "vec_ap = MPS.remake_vec(Tn,lam)\n",
    "print(\"Distance between exact and truncated MPS = \"+repr(linalg.norm(vec_ex - vec_ap)))\n"
   ]
  },
  {
   "cell_type": "markdown",
   "metadata": {},
   "source": [
    "## Appendix: bond dimension dependence \n",
    "\n",
    "In this appendix, we calculate the distance between the original and approximated vector as a function of chi_max.   \n",
    "We use the same original vector as the main part.   \n",
    "You can set maxmum and minimum value of chi_max for the calculation.\n"
   ]
  },
  {
   "cell_type": "code",
   "execution_count": 11,
   "metadata": {},
   "outputs": [],
   "source": [
    "min_chi_max = 10\n",
    "max_chi_max = 260 ## maximum bond dimension of the exact MPS is m**(N/2)\n",
    "d_chi_max = 10"
   ]
  },
  {
   "cell_type": "code",
   "execution_count": 12,
   "metadata": {},
   "outputs": [],
   "source": [
    "chi_max_list = np.arange(min_chi_max, max_chi_max+1, d_chi_max, dtype=int)\n",
    "chi_list = np.ones((N+1,),dtype=int)\n",
    "vec_ex = MPS.remake_vec(Tn_ex,lam_ex)\n",
    "\n",
    "distances=[]\n",
    "for chi_max in chi_max_list:\n",
    "    for i in range(N-1):\n",
    "        chi = min(chi_max,lam_ex[i+1].shape[0])\n",
    "        chi_list[i+1] = chi\n",
    "    lam = [np.ones((1,))]\n",
    "    Tn = []\n",
    "    for i in range(N):\n",
    "        lam.append(lam_ex[i+1][:chi_list[i+1]])\n",
    "        Tn.append(Tn_ex[i][:,:chi_list[i],:chi_list[i+1]])\n",
    "    vec_ap = MPS.remake_vec(Tn,lam)\n",
    "    distances.append(linalg.norm(vec_ex - vec_ap))"
   ]
  },
  {
   "cell_type": "code",
   "execution_count": 13,
   "metadata": {},
   "outputs": [
    {
     "data": {
      "image/png": "[encoded data removed]",
      "text/plain": [
       "<Figure size 432x288 with 1 Axes>"
      ]
     },
     "metadata": {
      "needs_background": "light"
     },
     "output_type": "display_data"
    }
   ],
   "source": [
    "## plot distances\n",
    "\n",
    "plt.title(\"Distances for \"+\"(N, m) = (\"+repr(N)+\", \"+repr(m)+\") random vector\")\n",
    "plt.plot(chi_max_list,distances,\"o\")\n",
    "plt.xlabel(\"chi_max\")\n",
    "plt.ylabel(\"Distance\")\n",
    "#plt.yscale(\"log\")\n",
    "plt.show()\n",
    "\n"
   ]
  },
  {
   "cell_type": "code",
   "execution_count": null,
   "metadata": {},
   "outputs": [],
   "source": []
  }
 ],
 "metadata": {
  "kernelspec": {
   "display_name": "Python 3",
   "language": "python",
   "name": "python3"
  },
  "language_info": {
   "codemirror_mode": {
    "name": "ipython",
    "version": 3
   },
   "file_extension": ".py",
   "mimetype": "text/x-python",
   "name": "python",
   "nbconvert_exporter": "python",
   "pygments_lexer": "ipython3",
   "version": "3.7.0"
  }
 },
 "nbformat": 4,
 "nbformat_minor": 4
}
