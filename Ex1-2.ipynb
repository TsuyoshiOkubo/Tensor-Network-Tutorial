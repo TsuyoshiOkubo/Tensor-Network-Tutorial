{
 "cells": [
  {
   "cell_type": "markdown",
   "metadata": {},
   "source": [
    "# Sample code for exercise 1-2\n",
    "2017 Aug. Tsuyoshi Okubo  \n",
    "2018 Dec. Modified  \n",
    "2020 Nov. Modified and add appendix\n",
    "\n",
    "In this code, you can simulate SVD(Schmidt decomposition) of the ground state of spin model on 1d chain.  \n",
    "$$\\mathcal{H} = \\sum_{i} J_z S_{i,z}S_{i+1,z} + J_{xy} (S_{i,x}S_{i+1,x} + S_{i,y}S_{i+1,y}) - h_x \\sum_i S_{i,x} + D\\sum_i S_{i,z}^2$$\n",
    "\n",
    "You can change   \n",
    "\n",
    "- N: # of sites\n",
    "- m: size of spin  (2S = m - 1)  \n",
    "- Jz: amplitude of SzSz interaction  \n",
    "- Jxy: amplitude of SxSx + SySy interaction  \n",
    "- hx : amplitude of external field alogn x direction  \n",
    "- D : Single ion anisotropy  \n",
    "- periodic: Flag for periodic boundary condition  \n",
    "\n",
    "For example, when you set $m=2$ ($S=1/2$), $J_z = - 1$ and $J_{xy} = 0$ (ferromagnetic Ising interaction), and $h_x \\neq 0$ (finite tranverse field), the model coinsides with the transe vers field Ising model.  \n",
    "Another example is the (spin $S = (m - 1)/2)$  antiferromagnetic Heinseberg model by setting $J_z = J_{xy} = 1$.\n",
    "\n",
    "\n",
    "\n",
    "The ground state will be calculated by Krylov subspace method. Thus, you treat relatively small system size, e.g. $N < 20$, because the dimension of the state vector is $m^N$.\n",
    "\n",
    "In the appendix, you can also check the $N$ dependence of the entanglement entropy for the ground states. Note that you may need loger time for this part due to the calculation of the ground states."
   ]
  },
  {
   "cell_type": "code",
   "execution_count": 1,
   "metadata": {},
   "outputs": [],
   "source": [
    "import numpy as np\n",
    "import scipy.linalg as linalg\n",
    "%matplotlib inline\n",
    "from matplotlib import pyplot\n",
    "import ED "
   ]
  },
  {
   "cell_type": "code",
   "execution_count": 2,
   "metadata": {},
   "outputs": [],
   "source": [
    "N=16          ## Chain length \n",
    "m = 2         ## m = 2S + 1, e.g. m=3 for S=1 \n",
    "Jz = -1.0      ## Jz for SzSz interaction\n",
    "Jxy = 0.0     ## Jxy for SxSx + SySy interaction\n",
    "hx = 0.4      ## external field along x direction\n",
    "D = 0.0       ## single ion anisotropy\n",
    "periodic = False ## periodic boundasry condition"
   ]
  },
  {
   "cell_type": "code",
   "execution_count": 3,
   "metadata": {},
   "outputs": [
    {
     "name": "stdout",
     "output_type": "stream",
     "text": [
      "2S = m - 1, N-site spin chain\n",
      "N = 16\n",
      "m = 2\n",
      "Hamiltonian parameters:\n",
      "Jz = -1.0\n",
      "Jxy = 0.0\n",
      "hx = 0.4\n",
      "D = 0.0\n",
      "periodic = False\n"
     ]
    }
   ],
   "source": [
    "print(\"2S = m - 1, N-site spin chain\")\n",
    "print(\"N = \"+repr(N))\n",
    "print(\"m = \"+repr(m))\n",
    "print(\"Hamiltonian parameters:\")\n",
    "print(\"Jz = \"+repr(Jz))\n",
    "print(\"Jxy = \"+repr(Jxy))\n",
    "print(\"hx = \"+repr(hx))\n",
    "print(\"D = \"+repr(D))\n",
    "print(\"periodic = \"+repr(periodic))\n"
   ]
  },
  {
   "cell_type": "markdown",
   "metadata": {},
   "source": [
    "First, we calculated the ground state of the model. Note that the dimension of the ground vector is $m^N$."
   ]
  },
  {
   "cell_type": "code",
   "execution_count": 4,
   "metadata": {},
   "outputs": [
    {
     "name": "stdout",
     "output_type": "stream",
     "text": [
      "Ground state energy per bond= -0.3008312739132694\n"
     ]
    }
   ],
   "source": [
    "## Obtain the smallest eigenvalue\n",
    "eig_val,eig_vec = ED.Calc_GS(m,Jz, Jxy,hx,D,N,k=1,periodic=periodic)\n",
    "if periodic :\n",
    "    print(\"Ground state energy per bond= \" +repr(eig_val[0]/N))\n",
    "else:\n",
    "    print(\"Ground state energy per bond= \" +repr(eig_val[0]/(N-1)))\n"
   ]
  },
  {
   "cell_type": "markdown",
   "metadata": {},
   "source": [
    "Then the $m^N$ dimensional vector is transformed into a $m^{N/2} \\times m^{N/2}$ matrix. Then we perform the singular value decomposition of it."
   ]
  },
  {
   "cell_type": "code",
   "execution_count": 5,
   "metadata": {},
   "outputs": [],
   "source": [
    "## Make matrix from wave function\n",
    "Mat = eig_vec[:,0].reshape(m**(N//2),m**(N-N//2))\n",
    "\n",
    "## SVD\n",
    "s = linalg.svdvals(Mat)"
   ]
  },
  {
   "cell_type": "markdown",
   "metadata": {},
   "source": [
    "The singular values are normalized as $\\sum_i s_i^2 = 1$. As explained in Ex1-1, the squared sum of the singualr values is related to the norm of the vector $$ \\lVert \\vec{v} \\rVert = \\sqrt{\\mathrm{Tr}~{MM^T}} = \\sqrt{\\sum_i s_i^2}. $$\n",
    "In the present case, the ground state vector is already properly normalized. Thus, you will see \"norization\" is almost equal to $1$.\n",
    "\n",
    "The entanglement entropy is calculated as \n",
    "$$ S = -\\sum_i s_i^2 \\log s_i^2. $$"
   ]
  },
  {
   "cell_type": "code",
   "execution_count": 6,
   "metadata": {},
   "outputs": [
    {
     "name": "stdout",
     "output_type": "stream",
     "text": [
      "Norm of the vector = 1.0000000000000009\n",
      "Entanglement entropy = 0.6742495666762395\n"
     ]
    }
   ],
   "source": [
    "## Entanglement entropy\n",
    "norm = np.sqrt(np.sum(s**2))\n",
    "print(\"Norm of the vector = \"+ repr(norm))\n",
    "\n",
    "s /= norm\n",
    "EE = -np.sum(s**2*np.log(s**2))\n",
    "print(\"Entanglement entropy = \" + repr(EE))"
   ]
  },
  {
   "cell_type": "code",
   "execution_count": 7,
   "metadata": {},
   "outputs": [
    {
     "data": {
      "image/png": "[encoded data removed]",
      "text/plain": [
       "<Figure size 432x288 with 1 Axes>"
      ]
     },
     "metadata": {
      "needs_background": "light"
     },
     "output_type": "display_data"
    }
   ],
   "source": [
    "## plot singular values\n",
    "pyplot.title(repr(N)+\" sites spin chain\")\n",
    "pyplot.plot(np.arange(m**(N//2),dtype=int),s,\"o\")\n",
    "pyplot.xlabel(\"index\")\n",
    "pyplot.ylabel(\"sigular value\")\n",
    "pyplot.yscale(\"log\")\n",
    "pyplot.show()\n"
   ]
  },
  {
   "cell_type": "markdown",
   "metadata": {},
   "source": [
    "## Appendix: Scaling of the entanglement entorpy\n",
    "In the following section, you can check the scaling of the entanglement entropy for the ground state vectors.  \n",
    "\n",
    "We use the same parameters for the Hamiltonian, and vary $N$ from N_min to N_max with N_step interval."
   ]
  },
  {
   "cell_type": "code",
   "execution_count": 8,
   "metadata": {},
   "outputs": [],
   "source": [
    "N_min = 4\n",
    "N_max = 20\n",
    "N_step = 2\n",
    "\n",
    "N_list = np.arange(N_min,N_max+1,N_step,dtype=int)"
   ]
  },
  {
   "cell_type": "markdown",
   "metadata": {},
   "source": [
    "Here we calculate the entanglement entropy for each $N$."
   ]
  },
  {
   "cell_type": "code",
   "execution_count": 9,
   "metadata": {},
   "outputs": [],
   "source": [
    "EE_list = []\n",
    "for N in N_list:\n",
    "    ## get the ground state vector\n",
    "    eig_val,eig_vec = ED.Calc_GS(m,Jz, Jxy,hx,D,N,k=1,periodic=periodic)\n",
    "\n",
    "    ## Make matrix from wave function\n",
    "    Mat = eig_vec[:].reshape(m**(N//2),m**(N-N//2))\n",
    "\n",
    "    ## SVD\n",
    "    s = linalg.svdvals(Mat)\n",
    "    norm = np.sqrt(np.sum(s**2))\n",
    "\n",
    "    s /= norm\n",
    "    EE_list.append(-np.sum(s**2*np.log(s**2)))"
   ]
  },
  {
   "cell_type": "markdown",
   "metadata": {},
   "source": [
    "Finally, we plot $N$ dependence of the entanglement entorpy. You can see \n",
    "\n",
    "- The entanglement entorpy is much smaller than the random vector with the same dimension.\n",
    "- The entanglement entropy tends to saturate as $N$ is increased, corresponding to the area low in the one dimensional system.\n",
    "\n",
    "In the case of \"gapless\" system, such as $S=1/2$ Heinseberg model and the transe verse filed Ising model at the critical point ($h_c=0.5$), you may see weak increase of the entanglement entropy due to $\\log N$ correction."
   ]
  },
  {
   "cell_type": "code",
   "execution_count": 10,
   "metadata": {},
   "outputs": [
    {
     "data": {
      "image/png": "[encoded data removed]",
      "text/plain": [
       "<Figure size 432x288 with 1 Axes>"
      ]
     },
     "metadata": {
      "needs_background": "light"
     },
     "output_type": "display_data"
    }
   ],
   "source": [
    "## plot of the entanglement entropy\n",
    "pyplot.title(\"Entanglement entropy of spin chans\")\n",
    "pyplot.plot(N_list,EE_list,\"o\")\n",
    "pyplot.xlabel(\"$N$\")\n",
    "pyplot.ylabel(\"Entanglement entropy\")\n",
    "pyplot.show()"
   ]
  },
  {
   "cell_type": "code",
   "execution_count": null,
   "metadata": {},
   "outputs": [],
   "source": []
  }
 ],
 "metadata": {
  "kernelspec": {
   "display_name": "Python 3",
   "language": "python",
   "name": "python3"
  },
  "language_info": {
   "codemirror_mode": {
    "name": "ipython",
    "version": 3
   },
   "file_extension": ".py",
   "mimetype": "text/x-python",
   "name": "python",
   "nbconvert_exporter": "python",
   "pygments_lexer": "ipython3",
   "version": "3.7.7"
  }
 },
 "nbformat": 4,
 "nbformat_minor": 2
}
