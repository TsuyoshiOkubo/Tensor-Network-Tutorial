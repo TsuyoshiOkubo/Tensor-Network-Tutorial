{
 "cells": [
  {
   "cell_type": "markdown",
   "metadata": {},
   "source": [
    "# Sample code for exercise 1-1\n",
    "## Schmidt decomposition of a random vector\n",
    "\n",
    "2017 Aug. Tsuyoshi Okubo  \n",
    "2018 Dec. modified  \n",
    "2020 Nov. Modified and add appendix\n",
    "\n",
    "In this code, you can simulate SVD (Schmidt decomposition) of a $m^N$ dimensional random vector.  \n",
    "You can change   \n",
    "- N: $N$\n",
    "- m: $m$\n",
    "\n",
    "In this example, these variables just mean the size of Hilbert space and there is no relation to physics, such as spin system. Note that if you consider an array of $N$ qubits, the dimension of a state vector of the system is $2^N$.\n",
    "\n",
    "In the appendix, you can also check the volume law of the entanglement entropy for random vectors.\n"
   ]
  },
  {
   "cell_type": "code",
   "execution_count": 1,
   "metadata": {},
   "outputs": [],
   "source": [
    "import numpy as np\n",
    "import scipy.linalg as linalg\n",
    "%matplotlib inline\n",
    "from matplotlib import pyplot"
   ]
  },
  {
   "cell_type": "code",
   "execution_count": 2,
   "metadata": {},
   "outputs": [],
   "source": [
    "## Define the vector dimension = m^N\n",
    "\n",
    "N = 16          \n",
    "m = 2         "
   ]
  },
  {
   "cell_type": "markdown",
   "metadata": {},
   "source": [
    "An $m^N$ dimensional random vector is fistly transformed into a $m^{N/2} \\times m^{N/2}$ matrix. Then we perform the singular value decomposition of it."
   ]
  },
  {
   "cell_type": "code",
   "execution_count": 3,
   "metadata": {},
   "outputs": [],
   "source": [
    "## make random complex vector\n",
    "vec = (np.random.rand(m**N)-0.5) + 1.0j * (np.random.rand(m**N)-0.5)\n",
    "\n",
    "## Make matrix from wave function\n",
    "Mat = vec[:].reshape(m**(N//2),m**(N-N//2))\n",
    "\n",
    "## SVD\n",
    "s = linalg.svdvals(Mat)"
   ]
  },
  {
   "cell_type": "markdown",
   "metadata": {},
   "source": [
    "The singular values are normalized as $\\sum_i s_i^2 = 1$. Note that the squared sum of the singualr values is related to the norm of the vector as \n",
    "$$ \\lVert \\vec{v} \\rVert = \\sqrt{\\mathrm{Tr}~{MM^T}} = \\sqrt{\\sum_i s_i^2}, $$\n",
    "where $\\vec{v}$ is the target vector and $M$ is its matrix form explained in the previous step.\n",
    "\n",
    "Then the entanglement entropy is calculated as \n",
    "$$ S = -\\sum_i s_i^2 \\log s_i^2. $$"
   ]
  },
  {
   "cell_type": "code",
   "execution_count": 4,
   "metadata": {},
   "outputs": [
    {
     "name": "stdout",
     "output_type": "stream",
     "text": [
      "Norm of the vector = 104.56723347140382\n",
      "Entanglement entropy = 5.048042102424752\n"
     ]
    }
   ],
   "source": [
    "## Entanglement entropy\n",
    "norm = np.sqrt(np.sum(s**2))\n",
    "print(\"Norm of the vector = \"+ repr(norm))\n",
    "\n",
    "s /= norm\n",
    "EE = -np.sum(s**2*np.log(s**2))\n",
    "print(\"Entanglement entropy = \" + repr(EE))"
   ]
  },
  {
   "cell_type": "markdown",
   "metadata": {},
   "source": [
    "Finally, we plot the singular value spectrum. Note that, in the case of a random vector, we expect the volume low of the entanglement entorpy. \n",
    "Corresponding to this fact, the singular values decrease slowly in the case of a random vector."
   ]
  },
  {
   "cell_type": "code",
   "execution_count": 5,
   "metadata": {
    "scrolled": false
   },
   "outputs": [
    {
     "data": {
      "image/png": "[encoded data removed]",
      "text/plain": [
       "<Figure size 432x288 with 1 Axes>"
      ]
     },
     "metadata": {
      "needs_background": "light"
     },
     "output_type": "display_data"
    }
   ],
   "source": [
    "## plot singular values\n",
    "pyplot.title(\"Singular value spectrum of a random vector with $(m, N)$ = (\"+repr(m) +\", \"+repr(N)+\")\")\n",
    "pyplot.plot(np.arange(m**(N//2),dtype=int),s,\"o\")\n",
    "pyplot.xlabel(\"index\")\n",
    "pyplot.ylabel(\"sigular value\")\n",
    "pyplot.yscale(\"log\")\n",
    "pyplot.show()\n"
   ]
  },
  {
   "cell_type": "markdown",
   "metadata": {},
   "source": [
    "## Appendix: Volume law of the entanglement entorpy\n",
    "In the following section, you can check the volume low of the entanglement entropy for random vectors.\n",
    "\n",
    "Here we use the same $m$ which used in main part and vary $N$ from N_min to N_max with N_step interval."
   ]
  },
  {
   "cell_type": "code",
   "execution_count": 6,
   "metadata": {},
   "outputs": [],
   "source": [
    "N_min = 4\n",
    "N_max = 20\n",
    "N_step = 2\n",
    "\n",
    "N_list = np.arange(N_min,N_max+1,N_step,dtype=int)"
   ]
  },
  {
   "cell_type": "markdown",
   "metadata": {},
   "source": [
    "Here we calculate the entanglement entropy for each $N$."
   ]
  },
  {
   "cell_type": "code",
   "execution_count": 7,
   "metadata": {},
   "outputs": [],
   "source": [
    "EE_list = []\n",
    "for N in N_list:\n",
    "    ## make random complex vector\n",
    "    vec = (np.random.rand(m**N)-0.5) + 1.0j * (np.random.rand(m**N)-0.5)\n",
    "\n",
    "    ## Make matrix from the vector\n",
    "    Mat = vec[:].reshape(m**(N//2),m**(N-N//2))\n",
    "\n",
    "    ## SVD\n",
    "    s = linalg.svdvals(Mat)\n",
    "    norm = np.sqrt(np.sum(s**2))\n",
    "    \n",
    "\n",
    "    s /= norm\n",
    "    EE_list.append(-np.sum(s**2*np.log(s**2)))\n"
   ]
  },
  {
   "cell_type": "markdown",
   "metadata": {},
   "source": [
    "Finally, we plot $N$ dependence of the entanglement entorpy. You can see the entanglement entropy linearly increases as we increase $N$."
   ]
  },
  {
   "cell_type": "code",
   "execution_count": 8,
   "metadata": {},
   "outputs": [
    {
     "data": {
      "image/png": "[encoded data removed]",
      "text/plain": [
       "<Figure size 432x288 with 1 Axes>"
      ]
     },
     "metadata": {
      "needs_background": "light"
     },
     "output_type": "display_data"
    }
   ],
   "source": [
    "## plot of the entanglement entropy\n",
    "pyplot.title(\"Entanglement entropy of $m^N$ dimensional vector: $m$ = \"+repr(m))\n",
    "pyplot.plot(N_list,EE_list,\"o\")\n",
    "pyplot.xlabel(\"$N$\")\n",
    "pyplot.ylabel(\"Entanglement entropy\")\n",
    "pyplot.show()"
   ]
  },
  {
   "cell_type": "code",
   "execution_count": null,
   "metadata": {},
   "outputs": [],
   "source": []
  }
 ],
 "metadata": {
  "kernelspec": {
   "display_name": "Python 3",
   "language": "python",
   "name": "python3"
  },
  "language_info": {
   "codemirror_mode": {
    "name": "ipython",
    "version": 3
   },
   "file_extension": ".py",
   "mimetype": "text/x-python",
   "name": "python",
   "nbconvert_exporter": "python",
   "pygments_lexer": "ipython3",
   "version": "3.7.7"
  }
 },
 "nbformat": 4,
 "nbformat_minor": 2
}
